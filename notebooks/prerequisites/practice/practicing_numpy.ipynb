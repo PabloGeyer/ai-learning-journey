{
 "cells": [
  {
   "cell_type": "markdown",
   "id": "fcafa058-64a1-42ba-9a21-739aab9f4bd6",
   "metadata": {},
   "source": [
    "# NumPy Exercise"
   ]
  },
  {
   "cell_type": "markdown",
   "id": "5b07740a-ba61-490e-bc07-7114727e291b",
   "metadata": {},
   "source": [
    "### 1. Importar el paquete numpy con el nombre np (★☆☆)\n",
    "\n",
    "Numpy es una librería fundamental en Python para trabajar con arrays y operaciones numéricas. Por convención, siempre se importa con el alias `np` para facilitar su uso en el código.\n",
    "\n",
    "---"
   ]
  },
  {
   "cell_type": "markdown",
   "id": "5f94021c-6402-4e82-bf74-c643cd748c04",
   "metadata": {},
   "source": [
    "### 2. Imprimir la versión de numpy y su configuración (★☆☆)\n",
    "\n",
    "A veces es importante saber qué versión de numpy estás usando, ya que puede afectar la disponibilidad de funciones o el comportamiento de algunas operaciones. También puede ser útil ver la configuración con la que fue compilada la librería.\n",
    "\n",
    "---"
   ]
  },
  {
   "cell_type": "markdown",
   "id": "d8cf27db-31a3-4841-afa5-5ad5d67807af",
   "metadata": {},
   "source": [
    "### 3. Crear un vector nulo (vector lleno de ceros) de tamaño 10 (★☆☆)\n",
    "\n",
    "En numpy, un vector es un arreglo unidimensional. Crear un vector nulo significa generar un arreglo con 10 elementos, todos con valor cero. Esto es útil para inicializar variables o matrices sin valores predefinidos.\n",
    "\n",
    "---"
   ]
  },
  {
   "cell_type": "markdown",
   "id": "c4834373-e773-4988-98ea-7a069475d672",
   "metadata": {},
   "source": [
    "### 4. ¿Cómo encontrar el tamaño en memoria de cualquier array? (★☆☆)\n",
    "\n",
    "Cada array en numpy ocupa memoria en el equipo. Saber cuánto espacio consume un array puede ser crucial para optimizar programas que manejen grandes cantidades de datos, evitando desperdiciar recursos.\n",
    "\n",
    "---"
   ]
  },
  {
   "cell_type": "markdown",
   "id": "1c6a243d-312f-44da-b656-848cc687f084",
   "metadata": {},
   "source": [
    "### 5. ¿Cómo obtener la documentación de la función `add` de numpy desde la línea de comandos? (★☆☆)\n",
    "\n",
    "La función `add` realiza la suma elemento a elemento de arrays. Python permite acceder a la documentación de cualquier función desde la consola o terminal, lo cual es muy útil para consultar rápidamente cómo usar una función sin abrir documentación externa.\n",
    "\n",
    "---"
   ]
  },
  {
   "cell_type": "markdown",
   "id": "b1d1fed4-8345-4c0b-b807-43b1a385cfb5",
   "metadata": {},
   "source": [
    "### 6. Crear un vector nulo de tamaño 10, pero con el quinto valor igual a 1 (★☆☆)\n",
    "\n",
    "Similar al ejercicio 3, pero aquí se pide que uno de los elementos (el quinto, es decir, en posición índice 4 si se considera base 0) sea igual a 1. Esto puede servir para marcar posiciones especiales en un array.\n",
    "\n",
    "---"
   ]
  },
  {
   "cell_type": "markdown",
   "id": "c7b8906a-1255-4e1c-8598-1ec15119681c",
   "metadata": {},
   "source": [
    "### 7. Crear un vector con valores que vayan del 10 al 49 (★☆☆)\n",
    "\n",
    "Se trata de generar un vector unidimensional que contenga una secuencia de números enteros consecutivos desde 10 hasta 49 inclusive. Es común trabajar con secuencias ordenadas para indexar datos o crear datasets de prueba.\n",
    "\n",
    "---"
   ]
  },
  {
   "cell_type": "markdown",
   "id": "800683d2-85f6-4827-a1b4-8f7f270b4614",
   "metadata": {},
   "source": [
    "### 8. Invertir un vector (el primer elemento pasa a ser el último) (★☆☆)\n",
    "\n",
    "El orden de los elementos en un array puede ser invertido. Esto es útil en muchos contextos, por ejemplo, para ordenar datos de manera descendente o simplemente para manipular la estructura del array.\n",
    "\n",
    "---"
   ]
  },
  {
   "cell_type": "markdown",
   "id": "28b8173d-80c5-4622-9919-ebc670d4e661",
   "metadata": {},
   "source": [
    "### 9. Crear una matriz 3x3 con valores que vayan de 0 a 8 (★☆☆)\n",
    "\n",
    "Aquí se pide crear un array bidimensional (matriz) de 3 filas y 3 columnas, cuyos elementos contengan números consecutivos desde 0 hasta 8. Este tipo de matrices se usa mucho en álgebra lineal y manipulación de datos.\n",
    "\n",
    "---"
   ]
  },
  {
   "cell_type": "markdown",
   "id": "c6b178bf-8811-4ddb-ac57-a2003e97adc9",
   "metadata": {},
   "source": [
    "### 10. Encontrar los índices de los elementos no nulos en el array [1, 2, 0, 0, 4, 0] (★☆☆)\n",
    "\n",
    "En numpy es común identificar la posición de elementos que cumplen ciertas condiciones. En este caso, se quiere saber en qué posiciones del vector hay números distintos de cero, lo cual es útil para filtrar o manipular datos.\n",
    "\n",
    "---"
   ]
  },
  {
   "cell_type": "markdown",
   "id": "5799b9b5-434e-4116-9ca7-d2b70d3b77e5",
   "metadata": {},
   "source": [
    "### 11. Crear una matriz identidad 3x3 (★☆☆)\n",
    "\n",
    "Una matriz identidad es una matriz cuadrada que tiene 1 en la diagonal principal y 0 en el resto de las posiciones. Es fundamental en álgebra lineal y se usa como elemento neutro en multiplicación de matrices.\n",
    "\n",
    "---"
   ]
  },
  {
   "cell_type": "markdown",
   "id": "3f7f22b6-74a5-47b3-8321-d80bf814fc87",
   "metadata": {},
   "source": [
    "### 12. Crear un array 3x3x3 con valores aleatorios (★☆☆)\n",
    "\n",
    "Se solicita generar un array tridimensional (un cubo de datos) con dimensiones 3x3x3, cuyos valores sean números aleatorios. Esto se usa para simular datos o probar algoritmos en espacios multidimensionales.\n",
    "\n",
    "---"
   ]
  },
  {
   "cell_type": "markdown",
   "id": "87486db8-d3ad-4d0c-9ca1-7c176cfbc940",
   "metadata": {},
   "source": [
    "### 13. Crear un array 10x10 con valores aleatorios y encontrar los valores mínimo y máximo (★☆☆)\n",
    "\n",
    "Este ejercicio combina la generación de una matriz de tamaño 10x10 con valores aleatorios y la búsqueda de los valores más pequeño y más grande dentro de ella. Esto es útil para analizar rangos y características de los datos.\n",
    "\n",
    "---"
   ]
  },
  {
   "cell_type": "markdown",
   "id": "db79a262-6c9f-403b-acad-f66a4b0ed356",
   "metadata": {},
   "source": [
    "### 14. Crear un vector aleatorio de tamaño 30 y encontrar su valor medio (media) (★☆☆)\n",
    "\n",
    "Se pide generar un vector con 30 números aleatorios y calcular su promedio. La media es una medida estadística fundamental para entender la tendencia central de un conjunto de datos.\n",
    "\n",
    "---"
   ]
  },
  {
   "cell_type": "markdown",
   "id": "e999ff3a-ef9a-4693-a826-51e03dd95d98",
   "metadata": {},
   "source": [
    "### 15. Crear un array 2D con 1 en el borde y 0 en el interior (★☆☆)\n",
    "\n",
    "Este ejercicio busca construir una matriz bidimensional donde la \"barrera\" externa sea de unos y el interior esté relleno con ceros. Este patrón es común para crear máscaras o bordes en imágenes o matrices.\n",
    "\n",
    "---"
   ]
  },
  {
   "cell_type": "markdown",
   "id": "0c6a214d-eba7-477e-9dab-3980ae3f541f",
   "metadata": {},
   "source": [
    "### 16. ¿Cómo agregar un borde (relleno con ceros) alrededor de un array existente? (★☆☆)\n",
    "\n",
    "Dada una matriz o vector, muchas veces es necesario ampliar su tamaño agregando una \"barrera\" o borde externo lleno de ceros. Esto se usa mucho en procesamiento de imágenes o al preparar datos para ciertos algoritmos.\n",
    "\n",
    "---"
   ]
  },
  {
   "cell_type": "markdown",
   "id": "f76e0fd5-ee2e-4971-a39d-0ed180a7cd49",
   "metadata": {},
   "source": [
    "### 17. ¿Cuál es el resultado de la siguiente expresión? (★☆☆)\n",
    "\n",
    "```python\n",
    "0 * np.nan\n",
    "np.nan == np.nan\n",
    "np.inf > np.nan\n",
    "np.nan - np.nan\n",
    "np.nan in set([np.nan])\n",
    "0.3 == 3 * 0.1\n",
    "```\n",
    "\n",
    "Este ejercicio explora algunas propiedades especiales de los valores `NaN` (Not a Number), infinitos (`inf`) y precisión numérica en Python y numpy. Son casos que suelen causar confusión, pero son muy importantes para entender cálculos numéricos y el manejo de errores.\n",
    "\n",
    "---"
   ]
  },
  {
   "cell_type": "markdown",
   "id": "69b4f91c-db32-4dc0-b3d3-69c3d358d659",
   "metadata": {},
   "source": [
    "### 18. Crear una matriz 5x5 con los valores 1, 2, 3, 4 justo debajo de la diagonal principal (★☆☆)\n",
    "\n",
    "Se pide crear una matriz donde los números 1, 2, 3 y 4 estén colocados en la diagonal justo debajo de la diagonal principal, y el resto sea cero. Este tipo de matrices es común en álgebra para representar operadores o sistemas específicos.\n",
    "\n",
    "---"
   ]
  },
  {
   "cell_type": "markdown",
   "id": "f94e64fd-78d8-442c-9686-2047d8f307ae",
   "metadata": {},
   "source": [
    "### 19. Crear una matriz 8x8 y llenarla con un patrón de tablero de ajedrez (★☆☆)\n",
    "\n",
    "Se trata de crear una matriz de 8 filas por 8 columnas donde los valores formen un patrón alternado, como las casillas blancas y negras de un tablero de ajedrez. Este ejercicio ayuda a entender patrones y manipulación de matrices.\n",
    "\n",
    "---"
   ]
  },
  {
   "cell_type": "markdown",
   "id": "bc93c89d-4d46-4035-a17e-ffe4179f0a63",
   "metadata": {},
   "source": [
    "### 20. Considerar un array con forma (6, 7, 8), ¿cuál es el índice (x, y, z) del elemento número 100? (★☆☆)\n",
    "\n",
    "En numpy, un array multidimensional se indexa con varias coordenadas. Aquí se pide traducir la posición lineal (el elemento número 100 contando desde el inicio) a su índice multidimensional correspondiente, algo esencial para entender cómo numpy organiza los datos en memoria.\n",
    "\n",
    "---"
   ]
  },
  {
   "cell_type": "markdown",
   "id": "013557fd-47b7-4eb1-b6b7-eead2e718011",
   "metadata": {},
   "source": [
    "### 21. Crear una matriz 8x8 con patrón de tablero de ajedrez usando la función `tile` (★☆☆)\n",
    "\n",
    "Se quiere construir un patrón repetitivo (como el de un tablero de ajedrez) utilizando la función `tile` de numpy, que repite un array base varias veces para formar matrices más grandes. Esto ayuda a entender cómo crear patrones complejos a partir de bloques básicos.\n",
    "\n",
    "---"
   ]
  },
  {
   "cell_type": "markdown",
   "id": "20a156df-495e-47cd-8d5e-fbcd29493d82",
   "metadata": {},
   "source": [
    "### 22. Normalizar una matriz aleatoria 5x5 (★☆☆)\n",
    "\n",
    "Normalizar significa escalar los valores de la matriz para que estén dentro de un rango determinado, típicamente entre 0 y 1, o que tengan media 0 y desviación estándar 1. Esto es fundamental en procesamiento de datos y aprendizaje automático para que las variables estén en una escala comparable.\n",
    "\n",
    "---"
   ]
  },
  {
   "cell_type": "markdown",
   "id": "a860fa9e-12d7-45bb-81b1-e258c1041226",
   "metadata": {},
   "source": [
    "### 23. Crear un tipo de dato personalizado que describa un color como cuatro bytes sin signo (RGBA) (★☆☆)\n",
    "\n",
    "En numpy se pueden definir tipos de datos personalizados para manejar estructuras complejas, como colores que se representan con cuatro componentes (Rojo, Verde, Azul, Alfa). Cada componente es un byte que varía entre 0 y 255. Esto es útil para manipulación avanzada de datos.\n",
    "\n",
    "---"
   ]
  },
  {
   "cell_type": "markdown",
   "id": "a688ed4a-8e86-47df-9fac-b53a3e8b56c2",
   "metadata": {},
   "source": [
    "### 24. Multiplicar una matriz 5x3 por una matriz 3x2 (producto real de matrices) (★☆☆)\n",
    "\n",
    "Se trata de realizar la multiplicación estándar de matrices, donde el número de columnas de la primera coincide con el número de filas de la segunda. El resultado es una matriz 5x2. Es una operación fundamental en álgebra lineal y procesamiento de datos.\n",
    "\n",
    "---"
   ]
  },
  {
   "cell_type": "markdown",
   "id": "dbff5719-9f5a-4309-843f-5de27ed4a2e4",
   "metadata": {},
   "source": [
    "### 25. Dado un array 1D, negar todos los elementos que estén entre 3 y 8, modificándolo en su lugar (★☆☆)\n",
    "\n",
    "Este ejercicio pide modificar directamente el vector, cambiando el signo (multiplicando por -1) a todos los valores que cumplan la condición de estar entre 3 y 8. Es un ejemplo clásico de indexado condicional y manipulación in situ.\n",
    "\n",
    "---"
   ]
  },
  {
   "cell_type": "markdown",
   "id": "4f0244c2-c852-4739-8385-df2c604d1b46",
   "metadata": {},
   "source": [
    "### 26. ¿Cuál es la salida del siguiente script? (★☆☆)\n",
    "\n",
    "```python\n",
    "# Autor: Jake VanderPlas\n",
    "\n",
    "print(sum(range(5),-1))\n",
    "from numpy import *\n",
    "print(sum(range(5),-1))\n",
    "```\n",
    "\n",
    "Este ejercicio compara el comportamiento de la función `sum` de Python nativo con la función `sum` de numpy, mostrando cómo pueden diferir los resultados dependiendo del entorno y los argumentos. Es útil para entender diferencias entre funciones estándar y numpy.\n",
    "\n",
    "---"
   ]
  },
  {
   "cell_type": "markdown",
   "id": "f7e374e3-4b4a-41a6-a6d4-6f1beb518910",
   "metadata": {},
   "source": [
    "### 27. Considerando un vector entero Z, ¿cuáles de estas expresiones son legales? (★☆☆)\n",
    "\n",
    "```\n",
    "Z**Z\n",
    "2 << Z >> 2\n",
    "Z <- Z\n",
    "1j*Z\n",
    "Z/1/1\n",
    "Z<Z>Z\n",
    "```\n",
    "\n",
    "Aquí se evalúa qué operaciones entre números enteros y vectores son válidas en Python/numpy y cuáles no, incluyendo operadores bit a bit, comparaciones y operaciones con números complejos. Ayuda a entender las reglas de sintaxis y semántica.\n",
    "\n",
    "---"
   ]
  },
  {
   "cell_type": "markdown",
   "id": "e3ae893d-04a6-4fe1-b671-280997202c57",
   "metadata": {},
   "source": [
    "### 28. ¿Cuáles son los resultados de las siguientes expresiones? (★☆☆)\n",
    "\n",
    "```python\n",
    "np.array(0) / np.array(0)\n",
    "np.array(0) // np.array(0)\n",
    "np.array([np.nan]).astype(int).astype(float)\n",
    "```\n",
    "\n",
    "Este ejercicio explora comportamientos especiales como divisiones por cero y conversiones de tipos con valores especiales (NaN), que pueden dar resultados sorprendentes o generar errores. Es importante para comprender la gestión de errores y conversiones en numpy.\n",
    "\n",
    "---"
   ]
  },
  {
   "cell_type": "markdown",
   "id": "07c6b2eb-28d3-4a66-a569-c6080cbd60a9",
   "metadata": {},
   "source": [
    "### 29. ¿Cómo redondear un array de floats alejándose de cero? (★☆☆)\n",
    "\n",
    "El redondeo “alejándose de cero” significa que los números se redondean hacia el valor más lejano a cero (por ejemplo, 1.2 a 2, -1.2 a -2). Es diferente del redondeo estándar y se usa en ciertos contextos estadísticos o numéricos.\n",
    "\n",
    "---"
   ]
  },
  {
   "cell_type": "markdown",
   "id": "9d4bd020-6e07-41cc-8352-040fd9e49fcc",
   "metadata": {},
   "source": [
    "### 30. ¿Cómo encontrar los valores comunes entre dos arrays? (★☆☆)\n",
    "\n",
    "Encontrar la intersección entre dos conjuntos de datos es una operación muy común. Aquí se busca identificar qué valores aparecen en ambos arrays, lo cual es esencial para análisis de datos, comparación de resultados o filtrado.\n",
    "\n",
    "---"
   ]
  },
  {
   "cell_type": "markdown",
   "id": "3730d257-4a09-422b-9e0f-7cb1c3864482",
   "metadata": {},
   "source": [
    "### 31. ¿Cómo ignorar todas las advertencias de numpy? (no recomendado) (★☆☆)\n",
    "\n",
    "Las advertencias (`warnings`) en numpy alertan sobre posibles problemas o comportamientos inesperados (como divisiones por cero o operaciones con `NaN`). Ignorarlas puede evitar mensajes molestos, pero también puede ocultar errores importantes, por eso no se recomienda salvo en casos muy específicos.\n",
    "\n",
    "---"
   ]
  },
  {
   "cell_type": "markdown",
   "id": "f6939358-986f-44c9-9cdf-33ee6cad8124",
   "metadata": {},
   "source": [
    "### 32. ¿Es verdadera la siguiente expresión? (★☆☆)\n",
    "\n",
    "```python\n",
    "np.sqrt(-1) == np.emath.sqrt(-1)\n",
    "```\n",
    "\n",
    "Este ejercicio compara la raíz cuadrada de -1 usando la función estándar `sqrt` de numpy, que normalmente no maneja números complejos, con la función `emath.sqrt`, que sí soporta números complejos. Ayuda a entender cómo numpy trata los números imaginarios.\n",
    "\n",
    "---"
   ]
  },
  {
   "cell_type": "markdown",
   "id": "af8f42b5-a7a7-4e1b-87fb-ff20beb3226c",
   "metadata": {},
   "source": [
    "### 33. ¿Cómo obtener las fechas de ayer, hoy y mañana? (★☆☆)\n",
    "\n",
    "Se busca generar fechas específicas en formato de fecha y hora, muy útil en análisis temporal o procesamiento de series de tiempo. Se espera manejar la fecha actual y calcular la anterior y la siguiente.\n",
    "\n",
    "---"
   ]
  },
  {
   "cell_type": "markdown",
   "id": "dff1995d-3297-4d73-9626-05d46189b24f",
   "metadata": {},
   "source": [
    "### 34. ¿Cómo obtener todas las fechas correspondientes al mes de julio de 2016? (★★☆)\n",
    "\n",
    "Aquí el objetivo es construir un arreglo o lista con todas las fechas que forman un mes específico completo, en este caso julio de 2016. Este tipo de operaciones es frecuente en análisis financiero, meteorológico o histórico.\n",
    "\n",
    "---"
   ]
  },
  {
   "cell_type": "markdown",
   "id": "9e1e2723-8724-4e77-803e-33d65ca46257",
   "metadata": {
    "jp-MarkdownHeadingCollapsed": true
   },
   "source": [
    "### 35. ¿Cómo calcular ((A + B) * (-A/2)) modificando el array original sin hacer copia? (★★☆)\n",
    "\n",
    "Este ejercicio busca que realices la operación matemática combinada directamente sobre un array, sin crear una nueva copia de los datos. Se trata de optimizar el uso de memoria y rendimiento al evitar duplicar matrices en memoria.\n",
    "\n",
    "---"
   ]
  },
  {
   "cell_type": "markdown",
   "id": "fb074102-9e0e-4c46-b26e-f1c2833d4647",
   "metadata": {
    "jp-MarkdownHeadingCollapsed": true
   },
   "source": [
    "### 36. Extraer la parte entera de un array aleatorio de números positivos usando 4 métodos diferentes (★★☆)\n",
    "\n",
    "Dado un conjunto de números decimales, se quiere obtener solo la parte entera (descartando la fracción). Usar varios métodos sirve para comparar resultados, rendimiento o idoneidad según el contexto.\n",
    "\n",
    "---"
   ]
  },
  {
   "cell_type": "markdown",
   "id": "8adeed6c-5ed3-445b-bd09-62b37afc435b",
   "metadata": {
    "jp-MarkdownHeadingCollapsed": true
   },
   "source": [
    "### 37. Crear una matriz 5x5 con valores de fila que van del 0 al 4 (★★☆)\n",
    "\n",
    "Se trata de construir una matriz donde cada fila contenga la secuencia 0, 1, 2, 3, 4, repetida para las 5 filas. Esto es útil para generar datos con estructura regular para pruebas o algoritmos.\n",
    "\n",
    "---"
   ]
  },
  {
   "cell_type": "markdown",
   "id": "0776cd20-5bb4-4dba-87a9-d01a21b53bd1",
   "metadata": {
    "jp-MarkdownHeadingCollapsed": true
   },
   "source": [
    "### 38. Considerar una función generadora que genera 10 enteros y usarla para construir un array (★☆☆)\n",
    "\n",
    "Las funciones generadoras en Python producen elementos uno a uno. Aquí se pide convertir esa secuencia generada en un array numpy, útil para trabajar con datos producidos dinámicamente.\n",
    "\n",
    "---"
   ]
  },
  {
   "cell_type": "markdown",
   "id": "d113fc7f-f91d-4179-b151-e95dc13cd59b",
   "metadata": {
    "jp-MarkdownHeadingCollapsed": true
   },
   "source": [
    "### 39. Crear un vector de tamaño 10 con valores entre 0 y 1, excluyendo ambos extremos (★★☆)\n",
    "\n",
    "Se busca un vector con números en el intervalo (0, 1), es decir, sin incluir 0 ni 1. Esto se usa para casos donde los valores límite no son válidos, como probabilidades estrictas o normalizaciones.\n",
    "\n",
    "---"
   ]
  },
  {
   "cell_type": "markdown",
   "id": "c22936c5-840b-4419-b03d-3cc894b7ce35",
   "metadata": {
    "jp-MarkdownHeadingCollapsed": true
   },
   "source": [
    "### 40. Crear un vector aleatorio de tamaño 10 y ordenarlo (★★☆)\n",
    "\n",
    "Se genera un vector con valores aleatorios y luego se ordenan en orden creciente. Ordenar datos es fundamental para análisis, búsqueda eficiente y visualización.\n",
    "\n",
    "---"
   ]
  },
  {
   "cell_type": "markdown",
   "id": "b0d32dea-c863-45d2-94e1-1649d3a76cd3",
   "metadata": {
    "jp-MarkdownHeadingCollapsed": true
   },
   "source": [
    "### 41. ¿Cómo sumar un array pequeño más rápido que con `np.sum`? (★★☆)\n",
    "\n",
    "`np.sum` es muy eficiente para arrays grandes, pero para arrays pequeños, el overhead puede ser mayor. Este ejercicio busca métodos alternativos para sumar arrays pequeños más rápido, explorando optimizaciones o técnicas específicas.\n",
    "\n",
    "---"
   ]
  },
  {
   "cell_type": "markdown",
   "id": "286932f6-f8fd-4789-9804-34a02dd3803e",
   "metadata": {
    "jp-MarkdownHeadingCollapsed": true
   },
   "source": [
    "### 42. Considerando dos arrays aleatorios A y B, verificar si son iguales (★★☆)\n",
    "\n",
    "Se trata de comparar elemento por elemento dos arrays para saber si son idénticos en contenido y forma. Esto es común en validaciones y pruebas.\n",
    "\n",
    "---"
   ]
  },
  {
   "cell_type": "markdown",
   "id": "c237daf9-bef0-402d-8acd-c41f2dacd57c",
   "metadata": {
    "jp-MarkdownHeadingCollapsed": true
   },
   "source": [
    "### 43. Hacer un array inmutable (solo lectura) (★★☆)\n",
    "\n",
    "Convertir un array para que no pueda ser modificado evita cambios accidentales en datos críticos. Es útil en entornos donde se comparten datos y se quiere proteger la integridad.\n",
    "\n",
    "---"
   ]
  },
  {
   "cell_type": "markdown",
   "id": "0f1d2dde-d68f-466d-8631-ad4c1a56f19e",
   "metadata": {
    "jp-MarkdownHeadingCollapsed": true
   },
   "source": [
    "### 44. Considerar una matriz aleatoria 10x2 que representa coordenadas cartesianas y convertirlas a coordenadas polares (★★☆)\n",
    "\n",
    "Se pide transformar un conjunto de puntos expresados en (x,y) a su equivalente en (r,θ), donde r es la distancia al origen y θ el ángulo respecto al eje x. Es común en gráficos, física y análisis espacial.\n",
    "\n",
    "---"
   ]
  },
  {
   "cell_type": "markdown",
   "id": "8b64c05b-a14b-4883-9636-cb50c3436b30",
   "metadata": {
    "jp-MarkdownHeadingCollapsed": true
   },
   "source": [
    "### 45. Crear un vector aleatorio de tamaño 10 y reemplazar el valor máximo por 0 (★★☆)\n",
    "\n",
    "Este ejercicio combina la generación de datos aleatorios, la identificación de un valor específico (máximo) y su sustitución, que son operaciones frecuentes en limpieza o modificación de datos.\n",
    "\n",
    "---"
   ]
  },
  {
   "cell_type": "markdown",
   "id": "f098aa51-1af8-4fdd-96a0-07be3541ab7b",
   "metadata": {
    "jp-MarkdownHeadingCollapsed": true
   },
   "source": [
    "### 46. Crear un array estructurado con coordenadas x e y que cubran el área [0,1]x[0,1] (★★☆)\n",
    "\n",
    "Un array estructurado tiene campos nombrados, parecido a una tabla. Aquí se crea una cuadrícula de puntos en el plano unitario, útil para simulaciones, gráficos o análisis espaciales.\n",
    "\n",
    "---"
   ]
  },
  {
   "cell_type": "markdown",
   "id": "81385920-47b3-4b59-b5b4-d6f49a5b0545",
   "metadata": {
    "jp-MarkdownHeadingCollapsed": true
   },
   "source": [
    "### 47. Dados dos arrays X y Y, construir la matriz de Cauchy C donde Cij = 1/(xi - yj) (★★☆)\n",
    "\n",
    "La matriz de Cauchy es una matriz especial con elementos definidos por la fórmula 1/(xi - yj), usada en álgebra lineal y análisis numérico. Este ejercicio combina manipulación avanzada de arrays y comprensión matemática.\n",
    "\n",
    "---"
   ]
  },
  {
   "cell_type": "markdown",
   "id": "9cedf7dd-d34b-4636-8068-81356ee01cf1",
   "metadata": {
    "jp-MarkdownHeadingCollapsed": true
   },
   "source": [
    "### 48. Imprimir los valores mínimos y máximos representables para cada tipo escalar de numpy (★★☆)\n",
    "\n",
    "Numpy maneja varios tipos numéricos (int8, float64, etc.). Saber los límites de cada tipo es clave para evitar desbordamientos o errores en cálculos.\n",
    "\n",
    "---"
   ]
  },
  {
   "cell_type": "markdown",
   "id": "6ffd42d3-d5ca-411c-bfe1-37a0c42290c4",
   "metadata": {
    "jp-MarkdownHeadingCollapsed": true
   },
   "source": [
    "### 49. ¿Cómo imprimir todos los valores de un array? (★★☆)\n",
    "\n",
    "Por defecto, numpy puede truncar la impresión de arrays grandes. Aquí se pide mostrar todos los valores sin omisiones, útil para depuración y análisis exhaustivo.\n",
    "\n",
    "---"
   ]
  },
  {
   "cell_type": "markdown",
   "id": "7792f137-9aaa-4708-aac8-691bd144a0d1",
   "metadata": {
    "jp-MarkdownHeadingCollapsed": true
   },
   "source": [
    "### 50. ¿Cómo encontrar el valor más cercano (a un escalar dado) en un vector? (★★☆)\n",
    "\n",
    "Dado un número, se busca el elemento del vector que esté más próximo a ese número. Es una tarea habitual en búsqueda, interpolación y análisis de datos.\n",
    "\n",
    "---"
   ]
  },
  {
   "cell_type": "markdown",
   "id": "be45b301-deeb-4300-b733-b664c9ea551a",
   "metadata": {
    "jp-MarkdownHeadingCollapsed": true
   },
   "source": [
    "### 51. Crear un array estructurado que represente una posición (x, y) y un color (r, g, b) (★★☆)\n",
    "\n",
    "Un array estructurado permite guardar diferentes tipos de datos en cada \"campo\". Aquí se debe crear un array donde cada elemento contiene coordenadas espaciales (x, y) y un color en formato RGB, ideal para gráficos o imágenes.\n",
    "\n",
    "---"
   ]
  },
  {
   "cell_type": "markdown",
   "id": "a1dcf0b3-1bb9-4897-abbe-9373332c1926",
   "metadata": {
    "jp-MarkdownHeadingCollapsed": true
   },
   "source": [
    "### 52. Considerar un vector aleatorio con forma (100, 2) que representa coordenadas, encontrar las distancias punto a punto (★★☆)\n",
    "\n",
    "Dado un conjunto de 100 puntos en el plano (cada uno con coordenadas x e y), calcular la distancia entre cada par de puntos. Esto es común en análisis espacial, clustering y física.\n",
    "\n",
    "---"
   ]
  },
  {
   "cell_type": "markdown",
   "id": "1baae987-cf9d-4e3f-a1ba-17f3022b53cc",
   "metadata": {
    "jp-MarkdownHeadingCollapsed": true
   },
   "source": [
    "### 53. ¿Cómo convertir un array de floats (32 bits) a un array de enteros (32 bits) sin crear copia? (★★☆)\n",
    "\n",
    "La conversión \"in-place\" busca modificar el tipo de datos de un array sin crear uno nuevo, para optimizar memoria. Esto puede ser complejo y riesgoso si no se hace bien.\n",
    "\n",
    "---"
   ]
  },
  {
   "attachments": {},
   "cell_type": "markdown",
   "id": "da2bbabb-248b-4e91-93cd-cc8a60230e87",
   "metadata": {},
   "source": [
    "### 54. ¿Cómo leer el siguiente archivo? (★★☆)\n",
    "\n",
    "```\n",
    "1, 2, 3, 4, 5\n",
    "6,  ,  , 7, 8\n",
    " ,  , 9,10,11\n",
    "```\n",
    "\n",
    "El archivo tiene datos separados por comas, pero con espacios vacíos (valores faltantes). El reto es leerlo correctamente e interpretar esos valores vacíos, para no generar errores ni datos erróneos.\n",
    "\n",
    "---"
   ]
  },
  {
   "cell_type": "markdown",
   "id": "5dd0516e-554a-4552-a456-dec1bad805a5",
   "metadata": {},
   "source": [
    "### 55. ¿Cuál es el equivalente de `enumerate` para arrays de numpy? (★★☆)\n",
    "\n",
    "`enumerate` en Python itera sobre una secuencia proporcionando índice y valor. Aquí se busca la forma de obtener índices y valores simultáneamente en un array numpy.\n",
    "\n",
    "---"
   ]
  },
  {
   "cell_type": "markdown",
   "id": "f30756ce-f9be-4633-9d42-c8c43a655640",
   "metadata": {},
   "source": [
    "### 56. Generar un array 2D genérico con forma de Gaussiana (★★☆)\n",
    "\n",
    "Crear una matriz con valores distribuidos siguiendo una función gaussiana en 2D (una \"campana\" en dos dimensiones). Esto es útil en procesamiento de imágenes y estadísticas.\n",
    "\n",
    "---"
   ]
  },
  {
   "cell_type": "markdown",
   "id": "1168544e-a7e9-47d1-9973-4e498d82ae21",
   "metadata": {},
   "source": [
    "### 57. ¿Cómo colocar aleatoriamente p elementos en un array 2D? (★★☆)\n",
    "\n",
    "Colocar ciertos elementos en posiciones aleatorias dentro de una matriz 2D. Esto es común en simulaciones, juegos o pruebas de algoritmos.\n",
    "\n",
    "---"
   ]
  },
  {
   "cell_type": "markdown",
   "id": "61a162be-e9aa-41c6-bfac-98db6845aa31",
   "metadata": {},
   "source": [
    "### 58. Restar la media de cada fila de una matriz (★★☆)\n",
    "\n",
    "Normalizar cada fila de una matriz restándole su promedio. Esto es frecuente en análisis de datos para centrar valores y eliminar sesgos.\n",
    "\n",
    "---"
   ]
  },
  {
   "cell_type": "markdown",
   "id": "568b28f9-404b-4dba-b1ae-2765833c7ed6",
   "metadata": {},
   "source": [
    "### 59. ¿Cómo ordenar un array por la columna n? (★★☆)\n",
    "\n",
    "Ordenar filas de una matriz tomando como referencia los valores de una columna específica. Útil para organizar datos tabulares.\n",
    "\n",
    "---"
   ]
  },
  {
   "cell_type": "markdown",
   "id": "92c503ba-97e0-430b-bd49-5482a2b7cdac",
   "metadata": {},
   "source": [
    "### 60. ¿Cómo saber si un array 2D tiene columnas nulas (todo ceros)? (★★☆)\n",
    "\n",
    "Detectar columnas en una matriz que estén compuestas solo por ceros, para identificar datos vacíos o irrelevantes.\n",
    "\n",
    "---"
   ]
  },
  {
   "cell_type": "markdown",
   "id": "84648452-7fce-4b25-9efe-8c0083c92d15",
   "metadata": {},
   "source": [
    "### 61. Encontrar el valor más cercano a un valor dado dentro de un array (★★☆)\n",
    "\n",
    "En problemas de búsqueda o aproximación numérica, a menudo necesitamos encontrar el elemento de un conjunto que esté lo más cerca posible de un valor objetivo. Esto es útil en análisis de datos, gráficos o para tomar decisiones basadas en cercanía.\n",
    "\n",
    "---"
   ]
  },
  {
   "cell_type": "markdown",
   "id": "f30e8d9f-d7a8-4196-ae44-e452705d3ee6",
   "metadata": {},
   "source": [
    "### 62. Dados dos arrays con forma (1,3) y (3,1), ¿cómo calcular su suma utilizando un iterador? (★★☆)\n",
    "\n",
    "Este ejercicio explora cómo trabajar con broadcasting y iteradores en NumPy, que permiten sumar arrays de distintas dimensiones de forma eficiente sin copiar datos. Es clave para entender optimizaciones en cálculos numéricos.\n",
    "\n",
    "---"
   ]
  },
  {
   "cell_type": "markdown",
   "id": "e2c9304a-0c2b-4ed8-987b-33581a35206c",
   "metadata": {},
   "source": [
    "### 63. Crear una clase que extienda el array de NumPy y que tenga un atributo adicional llamado “nombre” (★★☆)\n",
    "\n",
    "Practicar la programación orientada a objetos con NumPy. Esto sirve para construir estructuras de datos personalizadas que puedan almacenar metadatos o información adicional junto con los datos numéricos.\n",
    "\n",
    "---"
   ]
  },
  {
   "cell_type": "markdown",
   "id": "27a7f33f-1e95-4612-b8a3-af16237edee4",
   "metadata": {},
   "source": [
    "### 64. Dado un vector y un segundo vector que contiene índices, sumar 1 a cada elemento del primero en las posiciones indicadas, cuidando que los índices repetidos acumulen la suma (★★★)\n",
    "\n",
    "Este ejercicio es más avanzado y útil en casos donde se quieren aplicar actualizaciones basadas en índices (como contar ocurrencias, acumulaciones, o ajustes en vectores grandes). Aquí hay que manejar índices repetidos para que las sumas se acumulen correctamente.\n",
    "\n",
    "---"
   ]
  },
  {
   "cell_type": "markdown",
   "id": "140c8694-b3c5-45f6-b149-0d812ff61c14",
   "metadata": {},
   "source": [
    "### 65. Acumular elementos de un vector X en otro array F basado en una lista de índices I (★★★)\n",
    "\n",
    "Muy parecido al anterior, este ejercicio practica la acumulación eficiente de valores según índices, una operación común en algoritmos de histograma, conteos o agregaciones parciales.\n",
    "\n",
    "---"
   ]
  },
  {
   "cell_type": "markdown",
   "id": "ec7ace48-3815-4004-b03e-e2adc0ca7d62",
   "metadata": {},
   "source": [
    "### 66. Dada una imagen representada como un array (w,h,3) con tipo de dato unsigned byte (0-255), contar cuántos colores únicos tiene (★★☆)\n",
    "\n",
    "Las imágenes digitales pueden representarse como matrices 3D donde cada píxel tiene valores RGB. Este ejercicio sirve para analizar la variedad de colores presentes, importante en compresión o procesamiento de imágenes.\n",
    "\n",
    "---"
   ]
  },
  {
   "cell_type": "markdown",
   "id": "3bb85211-fbbd-4232-bcdd-3f1738b1488e",
   "metadata": {},
   "source": [
    "### 67. Dado un array de cuatro dimensiones, cómo obtener la suma sobre los dos últimos ejes al mismo tiempo (★★★)\n",
    "\n",
    "Trabajar con arrays multidimensionales es muy común en machine learning y procesamiento de señales. Sumar sobre ejes permite reducir dimensionalidad y obtener resultados agregados importantes.\n",
    "\n",
    "---"
   ]
  },
  {
   "cell_type": "markdown",
   "id": "60e4764b-4d49-4ecc-872f-861708b6894a",
   "metadata": {},
   "source": [
    "### 68. Dado un vector unidimensional D y otro vector S del mismo tamaño que describe índices de subconjuntos, cómo calcular la media de los subconjuntos de D indicados por S (★★★)\n",
    "\n",
    "Este ejercicio es sobre agrupación y agregación condicional, muy útil en análisis de datos para calcular estadísticas por grupos o categorías.\n",
    "\n",
    "---"
   ]
  },
  {
   "cell_type": "markdown",
   "id": "36a29a30-05bd-4949-bdba-411587d0b3ab",
   "metadata": {},
   "source": [
    "### 69. Cómo obtener la diagonal del producto punto (dot product) entre dos matrices (★★★)\n",
    "\n",
    "El producto punto es fundamental en álgebra lineal. Aquí, el objetivo es obtener solo la diagonal del resultado, que puede representar cosas como correlaciones o productos escalares específicos.\n",
    "\n",
    "---"
   ]
  },
  {
   "cell_type": "markdown",
   "id": "a117d9a3-ce32-4718-9694-06e7d008e816",
   "metadata": {},
   "source": [
    "### 70. Dado el vector [1, 2, 3, 4, 5], cómo construir un nuevo vector donde entre cada elemento original haya tres ceros consecutivos (★★★)\n",
    "\n",
    "Manipular secuencias para insertar valores específicos en posiciones intermedias es útil en procesamiento de señales, análisis temporal, o para preparar datos para ciertas transformaciones o visualizaciones.\n",
    "\n",
    "---"
   ]
  },
  {
   "cell_type": "markdown",
   "id": "4c254435-388d-4c66-b459-da89ff2ac79e",
   "metadata": {},
   "source": [
    "### 71. Considerar un array de dimensión (5,5,3), ¿cómo multiplicarlo por un array con dimensiones (5,5)? (★★★)\n",
    "\n",
    "Se trata de hacer una operación de multiplicación entre un array tridimensional y otro bidimensional, teniendo en cuenta las reglas de *broadcasting* de numpy para que las dimensiones sean compatibles.\n",
    "\n",
    "---"
   ]
  },
  {
   "cell_type": "markdown",
   "id": "75b9469b-4eba-4d31-8248-26c0c1a42bb5",
   "metadata": {},
   "source": [
    "### 72. ¿Cómo intercambiar dos filas de un array? (★★★)\n",
    "\n",
    "Cambiar la posición de dos filas en una matriz es una operación útil en manipulación de datos, ordenamiento o algoritmos numéricos como la eliminación gaussiana.\n",
    "\n",
    "---"
   ]
  },
  {
   "cell_type": "markdown",
   "id": "6d6855ed-ef29-4dfb-8486-bdbbbc25bccc",
   "metadata": {},
   "source": [
    "### 73. Dado un conjunto de 10 tripletes que describen 10 triángulos (con vértices compartidos), encontrar el conjunto de segmentos de línea únicos que componen todos los triángulos (★★★)\n",
    "\n",
    "Aquí hay que identificar todos los lados (segmentos) que forman los triángulos, sin repetir segmentos compartidos. Es un problema de geometría computacional y manejo avanzado de conjuntos.\n",
    "\n",
    "---"
   ]
  },
  {
   "cell_type": "markdown",
   "id": "51aef0d1-dc0b-42ad-9a3f-08aa7c211f7b",
   "metadata": {},
   "source": [
    "### 74. Dado un array ordenado C que corresponde a un bincount, ¿cómo producir un array A tal que `np.bincount(A) == C`? (★★★)\n",
    "\n",
    "`bincount` cuenta ocurrencias de valores enteros en un array. Este ejercicio pide revertir esa operación: a partir del conteo, reconstruir el array original.\n",
    "\n",
    "---"
   ]
  },
  {
   "cell_type": "markdown",
   "id": "91ab8086-0cfe-4c6d-9db7-ecb21911795a",
   "metadata": {},
   "source": [
    "### 75. ¿Cómo calcular promedios usando una ventana deslizante sobre un array? (★★★)\n",
    "\n",
    "La ventana deslizante permite calcular promedios locales o estadísticas moviéndose por el array. Es muy usado en procesamiento de señales, series temporales y análisis de datos.\n",
    "\n",
    "---"
   ]
  },
  {
   "cell_type": "markdown",
   "id": "9b02fb42-22e4-4658-83ca-c6e864756670",
   "metadata": {},
   "source": [
    "### 76. Considerar un array unidimensional Z, construir un array bidimensional donde la primera fila sea (Z[0], Z[1], Z[2]) y cada fila siguiente esté desplazada por 1, terminando con (Z[-3], Z[-2], Z[-1]) (★★★)\n",
    "\n",
    "Se pide generar una matriz donde cada fila sea una subsecuencia consecutiva de longitud 3 del array original, útil en análisis de ventanas o patrones.\n",
    "\n",
    "---"
   ]
  },
  {
   "cell_type": "markdown",
   "id": "bff7a512-63d9-4e37-a83d-7370405444a9",
   "metadata": {},
   "source": [
    "### 77. ¿Cómo negar un booleano o cambiar el signo de un float *inplace*? (★★★)\n",
    "\n",
    "Modificar valores directamente en el array sin crear una copia es importante para eficiencia. Aquí se busca invertir valores booleanos o cambiar signo de flotantes dentro del mismo array.\n",
    "\n",
    "---"
   ]
  },
  {
   "cell_type": "markdown",
   "id": "a860a378-9577-4a40-87db-a90aabc9c165",
   "metadata": {},
   "source": [
    "### 78. Dados dos conjuntos de puntos P0 y P1 que describen líneas en 2D y un punto p, ¿cómo calcular la distancia desde p a cada línea i (P0[i], P1[i])? (★★★)\n",
    "\n",
    "Calcular la distancia mínima de un punto a varias líneas definidas por pares de puntos. Es un problema clásico de geometría computacional.\n",
    "\n",
    "---"
   ]
  },
  {
   "cell_type": "markdown",
   "id": "a14defc0-2881-4588-8103-f83ef2cbe9ec",
   "metadata": {},
   "source": [
    "### 79. Dados dos conjuntos de puntos P0 y P1 que describen líneas en 2D y un conjunto de puntos P, ¿cómo calcular la distancia desde cada punto j (P[j]) a cada línea i (P0[i], P1[i])? (★★★)\n",
    "\n",
    "Extensión del problema anterior: ahora se calcula la distancia de múltiples puntos a múltiples líneas, con resultados matriciales, útil en análisis espacial y gráficos.\n",
    "\n",
    "---"
   ]
  },
  {
   "cell_type": "markdown",
   "id": "a8a4526d-01e9-4fec-bfb6-33bcfeb66bd1",
   "metadata": {},
   "source": [
    "### 80. Considerar un array arbitrario, escribir una función que extraiga una subparte con una forma fija y centrada en un elemento dado (rellenar con un valor cuando sea necesario) (★★★)\n",
    "\n",
    "Extraer una ventana o recorte centrado en un elemento del array, manejando casos donde la ventana se sale de los límites (padding). Muy útil en procesamiento de imágenes y análisis local.\n",
    "\n",
    "---"
   ]
  },
  {
   "cell_type": "markdown",
   "id": "f74d3536-960a-4870-bd65-7de04c6fbbf9",
   "metadata": {},
   "source": [
    "### 81. Considerar un array Z = [1,2,3,4,5,6,7,8,9,10,11,12,13,14], ¿cómo generar un array R = [[1,2,3,4], [2,3,4,5], [3,4,5,6], ..., [11,12,13,14]]? (★★★)\n",
    "\n",
    "Se pide construir una matriz donde cada fila es una ventana deslizante de tamaño 4 sobre el array original Z, avanzando de a uno. Es útil para análisis secuencial o extracción de patrones.\n",
    "\n",
    "---"
   ]
  },
  {
   "cell_type": "markdown",
   "id": "68d99b94-7336-4e64-a2bc-b40bf9977915",
   "metadata": {},
   "source": [
    "### 82. Calcular el rango de una matriz (★★★)\n",
    "\n",
    "El rango de una matriz es la dimensión máxima de sus filas o columnas linealmente independientes. Es un concepto fundamental en álgebra lineal que indica la \"dimensión efectiva\" de la matriz.\n",
    "\n",
    "---"
   ]
  },
  {
   "cell_type": "markdown",
   "id": "c4cc20a5-b536-4e6f-bf4b-c64e5fa5e0c0",
   "metadata": {},
   "source": [
    "### 83. ¿Cómo encontrar el valor más frecuente en un array?\n",
    "\n",
    "Determinar el valor que aparece más veces en un array. Esto es útil para análisis estadísticos o procesamiento de datos categóricos.\n",
    "\n",
    "---"
   ]
  },
  {
   "cell_type": "markdown",
   "id": "7d9ad6a2-37d9-4a5c-9a5c-4ca4b055ee6a",
   "metadata": {},
   "source": [
    "### 84. Extraer todos los bloques contiguos 3x3 de una matriz aleatoria 10x10 (★★★)\n",
    "\n",
    "De una matriz grande, extraer todas las submatrices 3x3 que aparecen consecutivamente, útil para procesamiento de imágenes y análisis local.\n",
    "\n",
    "---"
   ]
  },
  {
   "cell_type": "markdown",
   "id": "1de2214a-2b1f-436c-8814-d34a2226b72b",
   "metadata": {},
   "source": [
    "### 85. Crear una subclase de array 2D tal que Z[i,j] == Z[j,i] (★★★)\n",
    "\n",
    "Crear una matriz que sea simétrica (igual al transpuesto), asegurando que los elementos reflejados sean iguales. Esto es importante en álgebra y gráficos.\n",
    "\n",
    "---"
   ]
  },
  {
   "cell_type": "markdown",
   "id": "ec84c522-3af3-4af4-bc5f-bb10aed5802d",
   "metadata": {},
   "source": [
    "### 86. Considerar un conjunto de p matrices de forma (n,n) y un conjunto de p vectores de forma (n,1). ¿Cómo calcular la suma de los productos de las p matrices y vectores a la vez? (resultado con forma (n,1)) (★★★)\n",
    "\n",
    "Calcular el resultado de multiplicar varias matrices por vectores y sumar todos los resultados, optimizando para rendimiento en operaciones matriciales.\n",
    "\n",
    "---"
   ]
  },
  {
   "cell_type": "markdown",
   "id": "31c248d8-dddc-4edb-8eb4-99998b253acc",
   "metadata": {},
   "source": [
    "### 87. Considerar un array 16x16, ¿cómo obtener la suma por bloques donde cada bloque es de tamaño 4x4? (★★★)\n",
    "\n",
    "Dividir la matriz en bloques 4x4 y sumar los valores dentro de cada bloque, útil en reducción de datos y procesamiento por regiones.\n",
    "\n",
    "---"
   ]
  },
  {
   "cell_type": "markdown",
   "id": "6aad5e48-3866-4c67-8e64-ef5febffc747",
   "metadata": {},
   "source": [
    "### 88. ¿Cómo implementar el Juego de la Vida usando arrays numpy? (★★★)\n",
    "\n",
    "El Juego de la Vida es un autómata celular clásico que evoluciona según reglas sobre vecinos vivos. Implementarlo con numpy optimiza la simulación.\n",
    "\n",
    "---"
   ]
  },
  {
   "cell_type": "markdown",
   "id": "b0f82651-5cea-4a51-a5bc-89f25a013796",
   "metadata": {},
   "source": [
    "### 89. ¿Cómo obtener los n valores más grandes de un array? (★★★)\n",
    "\n",
    "Extraer los valores máximos (los top n) de un array, útil en estadísticas, clasificación y filtrado.\n",
    "\n",
    "---"
   ]
  },
  {
   "cell_type": "markdown",
   "id": "3f540c47-c5d9-424f-8b18-c1b6f5bb1b81",
   "metadata": {},
   "source": [
    "### 90. Dado un número arbitrario de vectores, construir el producto cartesiano (todas las combinaciones posibles de elementos) (★★★)\n",
    "\n",
    "Generar todas las combinaciones posibles entre elementos de varios vectores, para análisis combinatorio, generación de casos de prueba o simulaciones.\n",
    "\n",
    "---"
   ]
  },
  {
   "cell_type": "markdown",
   "id": "a402312d-8be9-4acf-9424-8a20ae4121ee",
   "metadata": {},
   "source": [
    "### 91. ¿Cómo crear un *record array* (array con registros) a partir de un array regular? (★★★)\n",
    "\n",
    "Un *record array* permite acceder a columnas con nombres como si fueran atributos. Es útil cuando se manejan datos tabulares estructurados con diferentes tipos.\n",
    "\n",
    "---"
   ]
  },
  {
   "cell_type": "markdown",
   "id": "dd88c332-9ec4-4613-9505-5bbedeb253a6",
   "metadata": {},
   "source": [
    "### 92. Considerar un vector grande Z, ¿cómo calcular Z elevado a la potencia 3 usando 3 métodos diferentes? (★★★)\n",
    "\n",
    "El ejercicio busca explorar distintas formas eficientes de calcular potencias de elementos en un array grande, comparando rendimiento o legibilidad.\n",
    "\n",
    "---"
   ]
  },
  {
   "cell_type": "markdown",
   "id": "9ce3cf1a-c3c8-44f9-bab2-881749bb729a",
   "metadata": {},
   "source": [
    "### 93. Dados dos arrays A y B de formas (8,3) y (2,2), ¿cómo encontrar las filas de A que contienen elementos de cada fila de B sin importar el orden de los elementos en B? (★★★)\n",
    "\n",
    "Se requiere identificar filas que contienen subconjuntos específicos, sin importar el orden. Es un problema común en filtrado y búsqueda avanzada.\n",
    "\n",
    "---"
   ]
  },
  {
   "cell_type": "markdown",
   "id": "aceb3e14-8cc0-4ba6-823b-0dad0247e786",
   "metadata": {},
   "source": [
    "### 94. Considerando una matriz 10x3, extraer filas cuyos valores no sean todos iguales (ejemplo: [2,2,3]) (★★★)\n",
    "\n",
    "Extraer filas que tengan al menos un valor distinto, útil para detectar variabilidad o inconsistencias.\n",
    "\n",
    "---"
   ]
  },
  {
   "cell_type": "markdown",
   "id": "b1624605-2bd5-4cdd-808a-d899d76d396a",
   "metadata": {},
   "source": [
    "### 95. Convertir un vector de enteros en su representación binaria como matriz (★★★)\n",
    "\n",
    "Cada entero se descompone en bits, y el resultado es una matriz donde cada fila representa un entero en binario.\n",
    "\n",
    "---"
   ]
  },
  {
   "cell_type": "markdown",
   "id": "8ac5a1ee-5b5b-4b24-9bbe-09d2619d8fa8",
   "metadata": {},
   "source": [
    "### 96. Dado un array bidimensional, ¿cómo extraer filas únicas? (★★★)\n",
    "\n",
    "Obtener sólo las filas distintas sin repeticiones, útil para eliminar duplicados.\n",
    "\n",
    "---"
   ]
  },
  {
   "cell_type": "markdown",
   "id": "6f22a950-adfe-4580-8e29-233e5ebc2aa8",
   "metadata": {},
   "source": [
    "### 97. Considerando dos vectores A y B, escribir la expresión equivalente con `einsum` para las funciones inner (producto interno), outer (producto externo), sum (suma) y mul (multiplicación) (★★★)\n",
    "\n",
    "`einsum` es una función poderosa para realizar operaciones tensoriales con notación compacta y eficiente.\n",
    "\n",
    "---"
   ]
  },
  {
   "cell_type": "markdown",
   "id": "712f8ae9-5951-4f92-9874-3be3433366d3",
   "metadata": {},
   "source": [
    "### 98. Considerando un camino definido por dos vectores (X,Y), ¿cómo muestrearlo con muestras equidistantes? (★★★)\n",
    "\n",
    "Se quiere tomar puntos igualmente espaciados a lo largo de un camino 2D definido por coordenadas X e Y, útil en procesamiento de trayectorias.\n",
    "\n",
    "---"
   ]
  },
  {
   "cell_type": "markdown",
   "id": "028a2167-516f-4ea3-b08f-f44058d55633",
   "metadata": {},
   "source": [
    "### 99. Dado un entero n y un array 2D X, seleccionar filas de X que puedan interpretarse como muestras de una distribución multinomial con n grados, es decir, filas que sólo contengan enteros y cuya suma sea n. (★★★)\n",
    "\n",
    "Se busca filtrar filas con propiedades específicas (enteros y suma dada), importante en estadística y modelado probabilístico.\n",
    "\n",
    "---"
   ]
  },
  {
   "cell_type": "markdown",
   "id": "a5a0532c-9fc6-4a33-95d5-41b9c0f07fe8",
   "metadata": {},
   "source": [
    "### 100. Calcular intervalos de confianza bootstrap del 95% para la media de un array 1D X (es decir, remuestrear elementos con reemplazo N veces, calcular la media de cada muestra y luego calcular percentiles sobre esas medias). (★★★)\n",
    "\n",
    "El bootstrap es una técnica estadística para estimar la incertidumbre de una medida (como la media) mediante remuestreo repetido.\n",
    "\n",
    "---"
   ]
  }
 ],
 "metadata": {
  "kernelspec": {
   "display_name": "Python 3 (ipykernel)",
   "language": "python",
   "name": "python3"
  },
  "language_info": {
   "codemirror_mode": {
    "name": "ipython",
    "version": 3
   },
   "file_extension": ".py",
   "mimetype": "text/x-python",
   "name": "python",
   "nbconvert_exporter": "python",
   "pygments_lexer": "ipython3",
   "version": "3.12.3"
  }
 },
 "nbformat": 4,
 "nbformat_minor": 5
}
